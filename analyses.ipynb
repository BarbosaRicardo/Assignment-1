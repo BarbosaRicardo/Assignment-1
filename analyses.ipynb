{
  "nbformat": 4,
  "nbformat_minor": 0,
  "metadata": {
    "colab": {
      "name": "Lab1.ipynb",
      "provenance": [],
      "collapsed_sections": [],
      "authorship_tag": "ABX9TyOkpg5pgoTpZVzM8eB8i9x3",
      "include_colab_link": true
    },
    "kernelspec": {
      "name": "python3",
      "display_name": "Python 3"
    },
    "language_info": {
      "name": "python"
    }
  },
  "cells": [
    {
      "cell_type": "markdown",
      "metadata": {
        "id": "view-in-github",
        "colab_type": "text"
      },
      "source": [
        "<a href=\"https://colab.research.google.com/github/BarbosaRicardo/Assignment-1/blob/master/analyses.ipynb\" target=\"_parent\"><img src=\"https://colab.research.google.com/assets/colab-badge.svg\" alt=\"Open In Colab\"/></a>"
      ]
    },
    {
      "cell_type": "markdown",
      "source": [
        "### Preparation\n",
        "##### Import all of the necessary libraries and the file has been loaded from Github"
      ],
      "metadata": {
        "id": "3m65PIi1A1Y9"
      }
    },
    {
      "cell_type": "code",
      "execution_count": 2,
      "metadata": {
        "id": "jEd_Ie62fbNk"
      },
      "outputs": [],
      "source": [
        "import numpy as np\n",
        "import pandas as pd\n",
        "import seaborn as sns\n",
        "import matplotlib.pyplot as plt"
      ]
    },
    {
      "cell_type": "markdown",
      "source": [
        "#### Read csv file"
      ],
      "metadata": {
        "id": "5wT0GStzAz8h"
      }
    },
    {
      "cell_type": "code",
      "source": [
        "df = pd.read_csv(\"https://raw.githubusercontent.com/BarbosaRicardo/iot-lab1/main/iot_telemetry_data%202.csv\")\n",
        "df.head()\n"
      ],
      "metadata": {
        "colab": {
          "base_uri": "https://localhost:8080/",
          "height": 206
        },
        "id": "WZzK_wVLrtrU",
        "outputId": "9de67195-15c8-4f07-c2a6-2a1adfe62156"
      },
      "execution_count": 3,
      "outputs": [
        {
          "output_type": "execute_result",
          "data": {
            "text/html": [
              "\n",
              "  <div id=\"df-a780e57a-637f-49fb-9900-c2b2e87b2b1f\">\n",
              "    <div class=\"colab-df-container\">\n",
              "      <div>\n",
              "<style scoped>\n",
              "    .dataframe tbody tr th:only-of-type {\n",
              "        vertical-align: middle;\n",
              "    }\n",
              "\n",
              "    .dataframe tbody tr th {\n",
              "        vertical-align: top;\n",
              "    }\n",
              "\n",
              "    .dataframe thead th {\n",
              "        text-align: right;\n",
              "    }\n",
              "</style>\n",
              "<table border=\"1\" class=\"dataframe\">\n",
              "  <thead>\n",
              "    <tr style=\"text-align: right;\">\n",
              "      <th></th>\n",
              "      <th>ts</th>\n",
              "      <th>device</th>\n",
              "      <th>co</th>\n",
              "      <th>humidity</th>\n",
              "      <th>light</th>\n",
              "      <th>lpg</th>\n",
              "      <th>motion</th>\n",
              "      <th>smoke</th>\n",
              "      <th>temp</th>\n",
              "    </tr>\n",
              "  </thead>\n",
              "  <tbody>\n",
              "    <tr>\n",
              "      <th>0</th>\n",
              "      <td>1.594512e+09</td>\n",
              "      <td>b8:27:eb:bf:9d:51</td>\n",
              "      <td>0.004956</td>\n",
              "      <td>51.000000</td>\n",
              "      <td>False</td>\n",
              "      <td>0.007651</td>\n",
              "      <td>False</td>\n",
              "      <td>0.020411</td>\n",
              "      <td>22.700000</td>\n",
              "    </tr>\n",
              "    <tr>\n",
              "      <th>1</th>\n",
              "      <td>1.594512e+09</td>\n",
              "      <td>00:0f:00:70:91:0a</td>\n",
              "      <td>0.002840</td>\n",
              "      <td>76.000000</td>\n",
              "      <td>False</td>\n",
              "      <td>0.005114</td>\n",
              "      <td>False</td>\n",
              "      <td>0.013275</td>\n",
              "      <td>19.700001</td>\n",
              "    </tr>\n",
              "    <tr>\n",
              "      <th>2</th>\n",
              "      <td>1.594512e+09</td>\n",
              "      <td>b8:27:eb:bf:9d:51</td>\n",
              "      <td>0.004976</td>\n",
              "      <td>50.900000</td>\n",
              "      <td>False</td>\n",
              "      <td>0.007673</td>\n",
              "      <td>False</td>\n",
              "      <td>0.020475</td>\n",
              "      <td>22.600000</td>\n",
              "    </tr>\n",
              "    <tr>\n",
              "      <th>3</th>\n",
              "      <td>1.594512e+09</td>\n",
              "      <td>1c:bf:ce:15:ec:4d</td>\n",
              "      <td>0.004403</td>\n",
              "      <td>76.800003</td>\n",
              "      <td>True</td>\n",
              "      <td>0.007023</td>\n",
              "      <td>False</td>\n",
              "      <td>0.018628</td>\n",
              "      <td>27.000000</td>\n",
              "    </tr>\n",
              "    <tr>\n",
              "      <th>4</th>\n",
              "      <td>1.594512e+09</td>\n",
              "      <td>b8:27:eb:bf:9d:51</td>\n",
              "      <td>0.004967</td>\n",
              "      <td>50.900000</td>\n",
              "      <td>False</td>\n",
              "      <td>0.007664</td>\n",
              "      <td>False</td>\n",
              "      <td>0.020448</td>\n",
              "      <td>22.600000</td>\n",
              "    </tr>\n",
              "  </tbody>\n",
              "</table>\n",
              "</div>\n",
              "      <button class=\"colab-df-convert\" onclick=\"convertToInteractive('df-a780e57a-637f-49fb-9900-c2b2e87b2b1f')\"\n",
              "              title=\"Convert this dataframe to an interactive table.\"\n",
              "              style=\"display:none;\">\n",
              "        \n",
              "  <svg xmlns=\"http://www.w3.org/2000/svg\" height=\"24px\"viewBox=\"0 0 24 24\"\n",
              "       width=\"24px\">\n",
              "    <path d=\"M0 0h24v24H0V0z\" fill=\"none\"/>\n",
              "    <path d=\"M18.56 5.44l.94 2.06.94-2.06 2.06-.94-2.06-.94-.94-2.06-.94 2.06-2.06.94zm-11 1L8.5 8.5l.94-2.06 2.06-.94-2.06-.94L8.5 2.5l-.94 2.06-2.06.94zm10 10l.94 2.06.94-2.06 2.06-.94-2.06-.94-.94-2.06-.94 2.06-2.06.94z\"/><path d=\"M17.41 7.96l-1.37-1.37c-.4-.4-.92-.59-1.43-.59-.52 0-1.04.2-1.43.59L10.3 9.45l-7.72 7.72c-.78.78-.78 2.05 0 2.83L4 21.41c.39.39.9.59 1.41.59.51 0 1.02-.2 1.41-.59l7.78-7.78 2.81-2.81c.8-.78.8-2.07 0-2.86zM5.41 20L4 18.59l7.72-7.72 1.47 1.35L5.41 20z\"/>\n",
              "  </svg>\n",
              "      </button>\n",
              "      \n",
              "  <style>\n",
              "    .colab-df-container {\n",
              "      display:flex;\n",
              "      flex-wrap:wrap;\n",
              "      gap: 12px;\n",
              "    }\n",
              "\n",
              "    .colab-df-convert {\n",
              "      background-color: #E8F0FE;\n",
              "      border: none;\n",
              "      border-radius: 50%;\n",
              "      cursor: pointer;\n",
              "      display: none;\n",
              "      fill: #1967D2;\n",
              "      height: 32px;\n",
              "      padding: 0 0 0 0;\n",
              "      width: 32px;\n",
              "    }\n",
              "\n",
              "    .colab-df-convert:hover {\n",
              "      background-color: #E2EBFA;\n",
              "      box-shadow: 0px 1px 2px rgba(60, 64, 67, 0.3), 0px 1px 3px 1px rgba(60, 64, 67, 0.15);\n",
              "      fill: #174EA6;\n",
              "    }\n",
              "\n",
              "    [theme=dark] .colab-df-convert {\n",
              "      background-color: #3B4455;\n",
              "      fill: #D2E3FC;\n",
              "    }\n",
              "\n",
              "    [theme=dark] .colab-df-convert:hover {\n",
              "      background-color: #434B5C;\n",
              "      box-shadow: 0px 1px 3px 1px rgba(0, 0, 0, 0.15);\n",
              "      filter: drop-shadow(0px 1px 2px rgba(0, 0, 0, 0.3));\n",
              "      fill: #FFFFFF;\n",
              "    }\n",
              "  </style>\n",
              "\n",
              "      <script>\n",
              "        const buttonEl =\n",
              "          document.querySelector('#df-a780e57a-637f-49fb-9900-c2b2e87b2b1f button.colab-df-convert');\n",
              "        buttonEl.style.display =\n",
              "          google.colab.kernel.accessAllowed ? 'block' : 'none';\n",
              "\n",
              "        async function convertToInteractive(key) {\n",
              "          const element = document.querySelector('#df-a780e57a-637f-49fb-9900-c2b2e87b2b1f');\n",
              "          const dataTable =\n",
              "            await google.colab.kernel.invokeFunction('convertToInteractive',\n",
              "                                                     [key], {});\n",
              "          if (!dataTable) return;\n",
              "\n",
              "          const docLinkHtml = 'Like what you see? Visit the ' +\n",
              "            '<a target=\"_blank\" href=https://colab.research.google.com/notebooks/data_table.ipynb>data table notebook</a>'\n",
              "            + ' to learn more about interactive tables.';\n",
              "          element.innerHTML = '';\n",
              "          dataTable['output_type'] = 'display_data';\n",
              "          await google.colab.output.renderOutput(dataTable, element);\n",
              "          const docLink = document.createElement('div');\n",
              "          docLink.innerHTML = docLinkHtml;\n",
              "          element.appendChild(docLink);\n",
              "        }\n",
              "      </script>\n",
              "    </div>\n",
              "  </div>\n",
              "  "
            ],
            "text/plain": [
              "             ts             device        co  ...  motion     smoke       temp\n",
              "0  1.594512e+09  b8:27:eb:bf:9d:51  0.004956  ...   False  0.020411  22.700000\n",
              "1  1.594512e+09  00:0f:00:70:91:0a  0.002840  ...   False  0.013275  19.700001\n",
              "2  1.594512e+09  b8:27:eb:bf:9d:51  0.004976  ...   False  0.020475  22.600000\n",
              "3  1.594512e+09  1c:bf:ce:15:ec:4d  0.004403  ...   False  0.018628  27.000000\n",
              "4  1.594512e+09  b8:27:eb:bf:9d:51  0.004967  ...   False  0.020448  22.600000\n",
              "\n",
              "[5 rows x 9 columns]"
            ]
          },
          "metadata": {},
          "execution_count": 3
        }
      ]
    },
    {
      "cell_type": "markdown",
      "source": [
        "Dropped columns with NaN "
      ],
      "metadata": {
        "id": "Uda3Ng9tB0cl"
      }
    },
    {
      "cell_type": "code",
      "source": [
        "df = df.dropna('columns') # drop columns with NaN"
      ],
      "metadata": {
        "colab": {
          "base_uri": "https://localhost:8080/"
        },
        "id": "RaxqLqD0sRF_",
        "outputId": "1a85e5dd-df53-4b0d-f207-b30b37b48306"
      },
      "execution_count": 4,
      "outputs": [
        {
          "output_type": "stream",
          "name": "stderr",
          "text": [
            "/usr/local/lib/python3.7/dist-packages/ipykernel_launcher.py:1: FutureWarning: In a future version of pandas all arguments of DataFrame.dropna will be keyword-only\n",
            "  \"\"\"Entry point for launching an IPython kernel.\n"
          ]
        }
      ]
    },
    {
      "cell_type": "markdown",
      "source": [
        "Inspected the data using info() to look at the dataframe columns and types "
      ],
      "metadata": {
        "id": "LLCz-XK4CHp0"
      }
    },
    {
      "cell_type": "code",
      "source": [
        "df.info()"
      ],
      "metadata": {
        "colab": {
          "base_uri": "https://localhost:8080/"
        },
        "id": "Z15izT_qyxmC",
        "outputId": "c2690726-4e59-487c-e801-4070067efc99"
      },
      "execution_count": 5,
      "outputs": [
        {
          "output_type": "stream",
          "name": "stdout",
          "text": [
            "<class 'pandas.core.frame.DataFrame'>\n",
            "RangeIndex: 405184 entries, 0 to 405183\n",
            "Data columns (total 9 columns):\n",
            " #   Column    Non-Null Count   Dtype  \n",
            "---  ------    --------------   -----  \n",
            " 0   ts        405184 non-null  float64\n",
            " 1   device    405184 non-null  object \n",
            " 2   co        405184 non-null  float64\n",
            " 3   humidity  405184 non-null  float64\n",
            " 4   light     405184 non-null  bool   \n",
            " 5   lpg       405184 non-null  float64\n",
            " 6   motion    405184 non-null  bool   \n",
            " 7   smoke     405184 non-null  float64\n",
            " 8   temp      405184 non-null  float64\n",
            "dtypes: bool(2), float64(6), object(1)\n",
            "memory usage: 22.4+ MB\n"
          ]
        }
      ]
    },
    {
      "cell_type": "markdown",
      "source": [
        "Replaced the timestamp with a more readable condition"
      ],
      "metadata": {
        "id": "O61mPfqoCRbN"
      }
    },
    {
      "cell_type": "code",
      "source": [
        "df['time_stamp'] = pd.to_datetime(df['ts'], unit='s')\n",
        "df.drop(columns=['ts'], inplace=True) \n",
        "df.head()"
      ],
      "metadata": {
        "colab": {
          "base_uri": "https://localhost:8080/",
          "height": 250
        },
        "id": "lZJy6EXOy4bG",
        "outputId": "cc452807-848c-4c94-ff00-12aa7fb1e4d7"
      },
      "execution_count": 6,
      "outputs": [
        {
          "output_type": "execute_result",
          "data": {
            "text/html": [
              "\n",
              "  <div id=\"df-62e26cdc-fc8a-41a2-ae5c-7b8f3b20f5fc\">\n",
              "    <div class=\"colab-df-container\">\n",
              "      <div>\n",
              "<style scoped>\n",
              "    .dataframe tbody tr th:only-of-type {\n",
              "        vertical-align: middle;\n",
              "    }\n",
              "\n",
              "    .dataframe tbody tr th {\n",
              "        vertical-align: top;\n",
              "    }\n",
              "\n",
              "    .dataframe thead th {\n",
              "        text-align: right;\n",
              "    }\n",
              "</style>\n",
              "<table border=\"1\" class=\"dataframe\">\n",
              "  <thead>\n",
              "    <tr style=\"text-align: right;\">\n",
              "      <th></th>\n",
              "      <th>device</th>\n",
              "      <th>co</th>\n",
              "      <th>humidity</th>\n",
              "      <th>light</th>\n",
              "      <th>lpg</th>\n",
              "      <th>motion</th>\n",
              "      <th>smoke</th>\n",
              "      <th>temp</th>\n",
              "      <th>time_stamp</th>\n",
              "    </tr>\n",
              "  </thead>\n",
              "  <tbody>\n",
              "    <tr>\n",
              "      <th>0</th>\n",
              "      <td>b8:27:eb:bf:9d:51</td>\n",
              "      <td>0.004956</td>\n",
              "      <td>51.000000</td>\n",
              "      <td>False</td>\n",
              "      <td>0.007651</td>\n",
              "      <td>False</td>\n",
              "      <td>0.020411</td>\n",
              "      <td>22.700000</td>\n",
              "      <td>2020-07-12 00:01:34.385974528</td>\n",
              "    </tr>\n",
              "    <tr>\n",
              "      <th>1</th>\n",
              "      <td>00:0f:00:70:91:0a</td>\n",
              "      <td>0.002840</td>\n",
              "      <td>76.000000</td>\n",
              "      <td>False</td>\n",
              "      <td>0.005114</td>\n",
              "      <td>False</td>\n",
              "      <td>0.013275</td>\n",
              "      <td>19.700001</td>\n",
              "      <td>2020-07-12 00:01:34.735567616</td>\n",
              "    </tr>\n",
              "    <tr>\n",
              "      <th>2</th>\n",
              "      <td>b8:27:eb:bf:9d:51</td>\n",
              "      <td>0.004976</td>\n",
              "      <td>50.900000</td>\n",
              "      <td>False</td>\n",
              "      <td>0.007673</td>\n",
              "      <td>False</td>\n",
              "      <td>0.020475</td>\n",
              "      <td>22.600000</td>\n",
              "      <td>2020-07-12 00:01:38.073572864</td>\n",
              "    </tr>\n",
              "    <tr>\n",
              "      <th>3</th>\n",
              "      <td>1c:bf:ce:15:ec:4d</td>\n",
              "      <td>0.004403</td>\n",
              "      <td>76.800003</td>\n",
              "      <td>True</td>\n",
              "      <td>0.007023</td>\n",
              "      <td>False</td>\n",
              "      <td>0.018628</td>\n",
              "      <td>27.000000</td>\n",
              "      <td>2020-07-12 00:01:39.589145856</td>\n",
              "    </tr>\n",
              "    <tr>\n",
              "      <th>4</th>\n",
              "      <td>b8:27:eb:bf:9d:51</td>\n",
              "      <td>0.004967</td>\n",
              "      <td>50.900000</td>\n",
              "      <td>False</td>\n",
              "      <td>0.007664</td>\n",
              "      <td>False</td>\n",
              "      <td>0.020448</td>\n",
              "      <td>22.600000</td>\n",
              "      <td>2020-07-12 00:01:41.761234944</td>\n",
              "    </tr>\n",
              "  </tbody>\n",
              "</table>\n",
              "</div>\n",
              "      <button class=\"colab-df-convert\" onclick=\"convertToInteractive('df-62e26cdc-fc8a-41a2-ae5c-7b8f3b20f5fc')\"\n",
              "              title=\"Convert this dataframe to an interactive table.\"\n",
              "              style=\"display:none;\">\n",
              "        \n",
              "  <svg xmlns=\"http://www.w3.org/2000/svg\" height=\"24px\"viewBox=\"0 0 24 24\"\n",
              "       width=\"24px\">\n",
              "    <path d=\"M0 0h24v24H0V0z\" fill=\"none\"/>\n",
              "    <path d=\"M18.56 5.44l.94 2.06.94-2.06 2.06-.94-2.06-.94-.94-2.06-.94 2.06-2.06.94zm-11 1L8.5 8.5l.94-2.06 2.06-.94-2.06-.94L8.5 2.5l-.94 2.06-2.06.94zm10 10l.94 2.06.94-2.06 2.06-.94-2.06-.94-.94-2.06-.94 2.06-2.06.94z\"/><path d=\"M17.41 7.96l-1.37-1.37c-.4-.4-.92-.59-1.43-.59-.52 0-1.04.2-1.43.59L10.3 9.45l-7.72 7.72c-.78.78-.78 2.05 0 2.83L4 21.41c.39.39.9.59 1.41.59.51 0 1.02-.2 1.41-.59l7.78-7.78 2.81-2.81c.8-.78.8-2.07 0-2.86zM5.41 20L4 18.59l7.72-7.72 1.47 1.35L5.41 20z\"/>\n",
              "  </svg>\n",
              "      </button>\n",
              "      \n",
              "  <style>\n",
              "    .colab-df-container {\n",
              "      display:flex;\n",
              "      flex-wrap:wrap;\n",
              "      gap: 12px;\n",
              "    }\n",
              "\n",
              "    .colab-df-convert {\n",
              "      background-color: #E8F0FE;\n",
              "      border: none;\n",
              "      border-radius: 50%;\n",
              "      cursor: pointer;\n",
              "      display: none;\n",
              "      fill: #1967D2;\n",
              "      height: 32px;\n",
              "      padding: 0 0 0 0;\n",
              "      width: 32px;\n",
              "    }\n",
              "\n",
              "    .colab-df-convert:hover {\n",
              "      background-color: #E2EBFA;\n",
              "      box-shadow: 0px 1px 2px rgba(60, 64, 67, 0.3), 0px 1px 3px 1px rgba(60, 64, 67, 0.15);\n",
              "      fill: #174EA6;\n",
              "    }\n",
              "\n",
              "    [theme=dark] .colab-df-convert {\n",
              "      background-color: #3B4455;\n",
              "      fill: #D2E3FC;\n",
              "    }\n",
              "\n",
              "    [theme=dark] .colab-df-convert:hover {\n",
              "      background-color: #434B5C;\n",
              "      box-shadow: 0px 1px 3px 1px rgba(0, 0, 0, 0.15);\n",
              "      filter: drop-shadow(0px 1px 2px rgba(0, 0, 0, 0.3));\n",
              "      fill: #FFFFFF;\n",
              "    }\n",
              "  </style>\n",
              "\n",
              "      <script>\n",
              "        const buttonEl =\n",
              "          document.querySelector('#df-62e26cdc-fc8a-41a2-ae5c-7b8f3b20f5fc button.colab-df-convert');\n",
              "        buttonEl.style.display =\n",
              "          google.colab.kernel.accessAllowed ? 'block' : 'none';\n",
              "\n",
              "        async function convertToInteractive(key) {\n",
              "          const element = document.querySelector('#df-62e26cdc-fc8a-41a2-ae5c-7b8f3b20f5fc');\n",
              "          const dataTable =\n",
              "            await google.colab.kernel.invokeFunction('convertToInteractive',\n",
              "                                                     [key], {});\n",
              "          if (!dataTable) return;\n",
              "\n",
              "          const docLinkHtml = 'Like what you see? Visit the ' +\n",
              "            '<a target=\"_blank\" href=https://colab.research.google.com/notebooks/data_table.ipynb>data table notebook</a>'\n",
              "            + ' to learn more about interactive tables.';\n",
              "          element.innerHTML = '';\n",
              "          dataTable['output_type'] = 'display_data';\n",
              "          await google.colab.output.renderOutput(dataTable, element);\n",
              "          const docLink = document.createElement('div');\n",
              "          docLink.innerHTML = docLinkHtml;\n",
              "          element.appendChild(docLink);\n",
              "        }\n",
              "      </script>\n",
              "    </div>\n",
              "  </div>\n",
              "  "
            ],
            "text/plain": [
              "              device        co  ...       temp                    time_stamp\n",
              "0  b8:27:eb:bf:9d:51  0.004956  ...  22.700000 2020-07-12 00:01:34.385974528\n",
              "1  00:0f:00:70:91:0a  0.002840  ...  19.700001 2020-07-12 00:01:34.735567616\n",
              "2  b8:27:eb:bf:9d:51  0.004976  ...  22.600000 2020-07-12 00:01:38.073572864\n",
              "3  1c:bf:ce:15:ec:4d  0.004403  ...  27.000000 2020-07-12 00:01:39.589145856\n",
              "4  b8:27:eb:bf:9d:51  0.004967  ...  22.600000 2020-07-12 00:01:41.761234944\n",
              "\n",
              "[5 rows x 9 columns]"
            ]
          },
          "metadata": {},
          "execution_count": 6
        }
      ]
    },
    {
      "cell_type": "markdown",
      "source": [
        "Inspected the data with a heatmap to see correlations with feature columns"
      ],
      "metadata": {
        "id": "T33WFgPLCWUj"
      }
    },
    {
      "cell_type": "code",
      "source": [
        "sns.heatmap(df.corr()) "
      ],
      "metadata": {
        "colab": {
          "base_uri": "https://localhost:8080/",
          "height": 287
        },
        "id": "6W5LpQijzTc9",
        "outputId": "2edb0ab5-2be2-4f97-9d09-26008ca19c79"
      },
      "execution_count": 7,
      "outputs": [
        {
          "output_type": "execute_result",
          "data": {
            "text/plain": [
              "<matplotlib.axes._subplots.AxesSubplot at 0x7fd858746f50>"
            ]
          },
          "metadata": {},
          "execution_count": 7
        },
        {
          "output_type": "display_data",
          "data": {
            "image/png": "[encoded data removed]",
            "text/plain": [
              "<Figure size 432x288 with 2 Axes>"
            ]
          },
          "metadata": {
            "needs_background": "light"
          }
        }
      ]
    },
    {
      "cell_type": "markdown",
      "source": [
        "Utilized one hot encoding to simplify the names of the devices being used. "
      ],
      "metadata": {
        "id": "S1G7SdmoCdDa"
      }
    },
    {
      "cell_type": "code",
      "source": [
        "from sklearn.preprocessing import LabelEncoder, OneHotEncoder\n",
        "labelencoder=LabelEncoder()\n",
        "Devices = labelencoder.fit_transform(df['device'])\n",
        "Light = labelencoder.fit_transform(df['light'])\n",
        "Motion = labelencoder.fit_transform(df['motion'])\n",
        "\n",
        "onehotencoder=OneHotEncoder()"
      ],
      "metadata": {
        "id": "580idJ8X0dIS"
      },
      "execution_count": 8,
      "outputs": []
    },
    {
      "cell_type": "code",
      "source": [
        "df['device'] = Devices\n",
        "df['light'] = Light\n",
        "df['motion'] = Motion\n",
        "df"
      ],
      "metadata": {
        "colab": {
          "base_uri": "https://localhost:8080/",
          "height": 467
        },
        "id": "-7NKJ_HD0jE1",
        "outputId": "423388e6-fa79-4c94-fe63-270a1aa387c3"
      },
      "execution_count": 9,
      "outputs": [
        {
          "output_type": "execute_result",
          "data": {
            "text/html": [
              "\n",
              "  <div id=\"df-61ac963e-6722-45ec-809e-f9c5a01818ee\">\n",
              "    <div class=\"colab-df-container\">\n",
              "      <div>\n",
              "<style scoped>\n",
              "    .dataframe tbody tr th:only-of-type {\n",
              "        vertical-align: middle;\n",
              "    }\n",
              "\n",
              "    .dataframe tbody tr th {\n",
              "        vertical-align: top;\n",
              "    }\n",
              "\n",
              "    .dataframe thead th {\n",
              "        text-align: right;\n",
              "    }\n",
              "</style>\n",
              "<table border=\"1\" class=\"dataframe\">\n",
              "  <thead>\n",
              "    <tr style=\"text-align: right;\">\n",
              "      <th></th>\n",
              "      <th>device</th>\n",
              "      <th>co</th>\n",
              "      <th>humidity</th>\n",
              "      <th>light</th>\n",
              "      <th>lpg</th>\n",
              "      <th>motion</th>\n",
              "      <th>smoke</th>\n",
              "      <th>temp</th>\n",
              "      <th>time_stamp</th>\n",
              "    </tr>\n",
              "  </thead>\n",
              "  <tbody>\n",
              "    <tr>\n",
              "      <th>0</th>\n",
              "      <td>2</td>\n",
              "      <td>0.004956</td>\n",
              "      <td>51.000000</td>\n",
              "      <td>0</td>\n",
              "      <td>0.007651</td>\n",
              "      <td>0</td>\n",
              "      <td>0.020411</td>\n",
              "      <td>22.700000</td>\n",
              "      <td>2020-07-12 00:01:34.385974528</td>\n",
              "    </tr>\n",
              "    <tr>\n",
              "      <th>1</th>\n",
              "      <td>0</td>\n",
              "      <td>0.002840</td>\n",
              "      <td>76.000000</td>\n",
              "      <td>0</td>\n",
              "      <td>0.005114</td>\n",
              "      <td>0</td>\n",
              "      <td>0.013275</td>\n",
              "      <td>19.700001</td>\n",
              "      <td>2020-07-12 00:01:34.735567616</td>\n",
              "    </tr>\n",
              "    <tr>\n",
              "      <th>2</th>\n",
              "      <td>2</td>\n",
              "      <td>0.004976</td>\n",
              "      <td>50.900000</td>\n",
              "      <td>0</td>\n",
              "      <td>0.007673</td>\n",
              "      <td>0</td>\n",
              "      <td>0.020475</td>\n",
              "      <td>22.600000</td>\n",
              "      <td>2020-07-12 00:01:38.073572864</td>\n",
              "    </tr>\n",
              "    <tr>\n",
              "      <th>3</th>\n",
              "      <td>1</td>\n",
              "      <td>0.004403</td>\n",
              "      <td>76.800003</td>\n",
              "      <td>1</td>\n",
              "      <td>0.007023</td>\n",
              "      <td>0</td>\n",
              "      <td>0.018628</td>\n",
              "      <td>27.000000</td>\n",
              "      <td>2020-07-12 00:01:39.589145856</td>\n",
              "    </tr>\n",
              "    <tr>\n",
              "      <th>4</th>\n",
              "      <td>2</td>\n",
              "      <td>0.004967</td>\n",
              "      <td>50.900000</td>\n",
              "      <td>0</td>\n",
              "      <td>0.007664</td>\n",
              "      <td>0</td>\n",
              "      <td>0.020448</td>\n",
              "      <td>22.600000</td>\n",
              "      <td>2020-07-12 00:01:41.761234944</td>\n",
              "    </tr>\n",
              "    <tr>\n",
              "      <th>...</th>\n",
              "      <td>...</td>\n",
              "      <td>...</td>\n",
              "      <td>...</td>\n",
              "      <td>...</td>\n",
              "      <td>...</td>\n",
              "      <td>...</td>\n",
              "      <td>...</td>\n",
              "      <td>...</td>\n",
              "      <td>...</td>\n",
              "    </tr>\n",
              "    <tr>\n",
              "      <th>405179</th>\n",
              "      <td>0</td>\n",
              "      <td>0.003745</td>\n",
              "      <td>75.300003</td>\n",
              "      <td>0</td>\n",
              "      <td>0.006247</td>\n",
              "      <td>0</td>\n",
              "      <td>0.016437</td>\n",
              "      <td>19.200001</td>\n",
              "      <td>2020-07-20 00:03:33.162014976</td>\n",
              "    </tr>\n",
              "    <tr>\n",
              "      <th>405180</th>\n",
              "      <td>2</td>\n",
              "      <td>0.005882</td>\n",
              "      <td>48.500000</td>\n",
              "      <td>0</td>\n",
              "      <td>0.008660</td>\n",
              "      <td>0</td>\n",
              "      <td>0.023301</td>\n",
              "      <td>22.200000</td>\n",
              "      <td>2020-07-20 00:03:33.576560640</td>\n",
              "    </tr>\n",
              "    <tr>\n",
              "      <th>405181</th>\n",
              "      <td>1</td>\n",
              "      <td>0.004540</td>\n",
              "      <td>75.699997</td>\n",
              "      <td>1</td>\n",
              "      <td>0.007181</td>\n",
              "      <td>0</td>\n",
              "      <td>0.019076</td>\n",
              "      <td>26.600000</td>\n",
              "      <td>2020-07-20 00:03:36.167959296</td>\n",
              "    </tr>\n",
              "    <tr>\n",
              "      <th>405182</th>\n",
              "      <td>0</td>\n",
              "      <td>0.003745</td>\n",
              "      <td>75.300003</td>\n",
              "      <td>0</td>\n",
              "      <td>0.006247</td>\n",
              "      <td>0</td>\n",
              "      <td>0.016437</td>\n",
              "      <td>19.200001</td>\n",
              "      <td>2020-07-20 00:03:36.979521536</td>\n",
              "    </tr>\n",
              "    <tr>\n",
              "      <th>405183</th>\n",
              "      <td>2</td>\n",
              "      <td>0.005914</td>\n",
              "      <td>48.400000</td>\n",
              "      <td>0</td>\n",
              "      <td>0.008695</td>\n",
              "      <td>0</td>\n",
              "      <td>0.023400</td>\n",
              "      <td>22.200000</td>\n",
              "      <td>2020-07-20 00:03:37.264312576</td>\n",
              "    </tr>\n",
              "  </tbody>\n",
              "</table>\n",
              "<p>405184 rows × 9 columns</p>\n",
              "</div>\n",
              "      <button class=\"colab-df-convert\" onclick=\"convertToInteractive('df-61ac963e-6722-45ec-809e-f9c5a01818ee')\"\n",
              "              title=\"Convert this dataframe to an interactive table.\"\n",
              "              style=\"display:none;\">\n",
              "        \n",
              "  <svg xmlns=\"http://www.w3.org/2000/svg\" height=\"24px\"viewBox=\"0 0 24 24\"\n",
              "       width=\"24px\">\n",
              "    <path d=\"M0 0h24v24H0V0z\" fill=\"none\"/>\n",
              "    <path d=\"M18.56 5.44l.94 2.06.94-2.06 2.06-.94-2.06-.94-.94-2.06-.94 2.06-2.06.94zm-11 1L8.5 8.5l.94-2.06 2.06-.94-2.06-.94L8.5 2.5l-.94 2.06-2.06.94zm10 10l.94 2.06.94-2.06 2.06-.94-2.06-.94-.94-2.06-.94 2.06-2.06.94z\"/><path d=\"M17.41 7.96l-1.37-1.37c-.4-.4-.92-.59-1.43-.59-.52 0-1.04.2-1.43.59L10.3 9.45l-7.72 7.72c-.78.78-.78 2.05 0 2.83L4 21.41c.39.39.9.59 1.41.59.51 0 1.02-.2 1.41-.59l7.78-7.78 2.81-2.81c.8-.78.8-2.07 0-2.86zM5.41 20L4 18.59l7.72-7.72 1.47 1.35L5.41 20z\"/>\n",
              "  </svg>\n",
              "      </button>\n",
              "      \n",
              "  <style>\n",
              "    .colab-df-container {\n",
              "      display:flex;\n",
              "      flex-wrap:wrap;\n",
              "      gap: 12px;\n",
              "    }\n",
              "\n",
              "    .colab-df-convert {\n",
              "      background-color: #E8F0FE;\n",
              "      border: none;\n",
              "      border-radius: 50%;\n",
              "      cursor: pointer;\n",
              "      display: none;\n",
              "      fill: #1967D2;\n",
              "      height: 32px;\n",
              "      padding: 0 0 0 0;\n",
              "      width: 32px;\n",
              "    }\n",
              "\n",
              "    .colab-df-convert:hover {\n",
              "      background-color: #E2EBFA;\n",
              "      box-shadow: 0px 1px 2px rgba(60, 64, 67, 0.3), 0px 1px 3px 1px rgba(60, 64, 67, 0.15);\n",
              "      fill: #174EA6;\n",
              "    }\n",
              "\n",
              "    [theme=dark] .colab-df-convert {\n",
              "      background-color: #3B4455;\n",
              "      fill: #D2E3FC;\n",
              "    }\n",
              "\n",
              "    [theme=dark] .colab-df-convert:hover {\n",
              "      background-color: #434B5C;\n",
              "      box-shadow: 0px 1px 3px 1px rgba(0, 0, 0, 0.15);\n",
              "      filter: drop-shadow(0px 1px 2px rgba(0, 0, 0, 0.3));\n",
              "      fill: #FFFFFF;\n",
              "    }\n",
              "  </style>\n",
              "\n",
              "      <script>\n",
              "        const buttonEl =\n",
              "          document.querySelector('#df-61ac963e-6722-45ec-809e-f9c5a01818ee button.colab-df-convert');\n",
              "        buttonEl.style.display =\n",
              "          google.colab.kernel.accessAllowed ? 'block' : 'none';\n",
              "\n",
              "        async function convertToInteractive(key) {\n",
              "          const element = document.querySelector('#df-61ac963e-6722-45ec-809e-f9c5a01818ee');\n",
              "          const dataTable =\n",
              "            await google.colab.kernel.invokeFunction('convertToInteractive',\n",
              "                                                     [key], {});\n",
              "          if (!dataTable) return;\n",
              "\n",
              "          const docLinkHtml = 'Like what you see? Visit the ' +\n",
              "            '<a target=\"_blank\" href=https://colab.research.google.com/notebooks/data_table.ipynb>data table notebook</a>'\n",
              "            + ' to learn more about interactive tables.';\n",
              "          element.innerHTML = '';\n",
              "          dataTable['output_type'] = 'display_data';\n",
              "          await google.colab.output.renderOutput(dataTable, element);\n",
              "          const docLink = document.createElement('div');\n",
              "          docLink.innerHTML = docLinkHtml;\n",
              "          element.appendChild(docLink);\n",
              "        }\n",
              "      </script>\n",
              "    </div>\n",
              "  </div>\n",
              "  "
            ],
            "text/plain": [
              "        device        co  ...       temp                    time_stamp\n",
              "0            2  0.004956  ...  22.700000 2020-07-12 00:01:34.385974528\n",
              "1            0  0.002840  ...  19.700001 2020-07-12 00:01:34.735567616\n",
              "2            2  0.004976  ...  22.600000 2020-07-12 00:01:38.073572864\n",
              "3            1  0.004403  ...  27.000000 2020-07-12 00:01:39.589145856\n",
              "4            2  0.004967  ...  22.600000 2020-07-12 00:01:41.761234944\n",
              "...        ...       ...  ...        ...                           ...\n",
              "405179       0  0.003745  ...  19.200001 2020-07-20 00:03:33.162014976\n",
              "405180       2  0.005882  ...  22.200000 2020-07-20 00:03:33.576560640\n",
              "405181       1  0.004540  ...  26.600000 2020-07-20 00:03:36.167959296\n",
              "405182       0  0.003745  ...  19.200001 2020-07-20 00:03:36.979521536\n",
              "405183       2  0.005914  ...  22.200000 2020-07-20 00:03:37.264312576\n",
              "\n",
              "[405184 rows x 9 columns]"
            ]
          },
          "metadata": {},
          "execution_count": 9
        }
      ]
    },
    {
      "cell_type": "markdown",
      "source": [
        "Double checked values to see if any have null values "
      ],
      "metadata": {
        "id": "Rv_xORmICmAL"
      }
    },
    {
      "cell_type": "code",
      "source": [
        "df.isnull().sum()"
      ],
      "metadata": {
        "colab": {
          "base_uri": "https://localhost:8080/"
        },
        "id": "ilg_Ylkd4UKt",
        "outputId": "29d06b8c-c3f9-4cd4-d572-b1f71964fd18"
      },
      "execution_count": 10,
      "outputs": [
        {
          "output_type": "execute_result",
          "data": {
            "text/plain": [
              "device        0\n",
              "co            0\n",
              "humidity      0\n",
              "light         0\n",
              "lpg           0\n",
              "motion        0\n",
              "smoke         0\n",
              "temp          0\n",
              "time_stamp    0\n",
              "dtype: int64"
            ]
          },
          "metadata": {},
          "execution_count": 10
        }
      ]
    },
    {
      "cell_type": "markdown",
      "source": [
        "Converted celsius to Fahrenheit for easier readability. "
      ],
      "metadata": {
        "id": "D6m2vrBECs2E"
      }
    },
    {
      "cell_type": "code",
      "source": [
        "df['temp'] = (df['temp'] * 1.8) + 32\n",
        "df"
      ],
      "metadata": {
        "colab": {
          "base_uri": "https://localhost:8080/",
          "height": 467
        },
        "id": "NBybKT8p4ZKT",
        "outputId": "100799cc-0b23-4da1-861c-1340442fab39"
      },
      "execution_count": 11,
      "outputs": [
        {
          "output_type": "execute_result",
          "data": {
            "text/html": [
              "\n",
              "  <div id=\"df-fbdb522d-e69d-45d3-9ee1-96f1d6780f9b\">\n",
              "    <div class=\"colab-df-container\">\n",
              "      <div>\n",
              "<style scoped>\n",
              "    .dataframe tbody tr th:only-of-type {\n",
              "        vertical-align: middle;\n",
              "    }\n",
              "\n",
              "    .dataframe tbody tr th {\n",
              "        vertical-align: top;\n",
              "    }\n",
              "\n",
              "    .dataframe thead th {\n",
              "        text-align: right;\n",
              "    }\n",
              "</style>\n",
              "<table border=\"1\" class=\"dataframe\">\n",
              "  <thead>\n",
              "    <tr style=\"text-align: right;\">\n",
              "      <th></th>\n",
              "      <th>device</th>\n",
              "      <th>co</th>\n",
              "      <th>humidity</th>\n",
              "      <th>light</th>\n",
              "      <th>lpg</th>\n",
              "      <th>motion</th>\n",
              "      <th>smoke</th>\n",
              "      <th>temp</th>\n",
              "      <th>time_stamp</th>\n",
              "    </tr>\n",
              "  </thead>\n",
              "  <tbody>\n",
              "    <tr>\n",
              "      <th>0</th>\n",
              "      <td>2</td>\n",
              "      <td>0.004956</td>\n",
              "      <td>51.000000</td>\n",
              "      <td>0</td>\n",
              "      <td>0.007651</td>\n",
              "      <td>0</td>\n",
              "      <td>0.020411</td>\n",
              "      <td>72.860000</td>\n",
              "      <td>2020-07-12 00:01:34.385974528</td>\n",
              "    </tr>\n",
              "    <tr>\n",
              "      <th>1</th>\n",
              "      <td>0</td>\n",
              "      <td>0.002840</td>\n",
              "      <td>76.000000</td>\n",
              "      <td>0</td>\n",
              "      <td>0.005114</td>\n",
              "      <td>0</td>\n",
              "      <td>0.013275</td>\n",
              "      <td>67.460001</td>\n",
              "      <td>2020-07-12 00:01:34.735567616</td>\n",
              "    </tr>\n",
              "    <tr>\n",
              "      <th>2</th>\n",
              "      <td>2</td>\n",
              "      <td>0.004976</td>\n",
              "      <td>50.900000</td>\n",
              "      <td>0</td>\n",
              "      <td>0.007673</td>\n",
              "      <td>0</td>\n",
              "      <td>0.020475</td>\n",
              "      <td>72.680000</td>\n",
              "      <td>2020-07-12 00:01:38.073572864</td>\n",
              "    </tr>\n",
              "    <tr>\n",
              "      <th>3</th>\n",
              "      <td>1</td>\n",
              "      <td>0.004403</td>\n",
              "      <td>76.800003</td>\n",
              "      <td>1</td>\n",
              "      <td>0.007023</td>\n",
              "      <td>0</td>\n",
              "      <td>0.018628</td>\n",
              "      <td>80.600000</td>\n",
              "      <td>2020-07-12 00:01:39.589145856</td>\n",
              "    </tr>\n",
              "    <tr>\n",
              "      <th>4</th>\n",
              "      <td>2</td>\n",
              "      <td>0.004967</td>\n",
              "      <td>50.900000</td>\n",
              "      <td>0</td>\n",
              "      <td>0.007664</td>\n",
              "      <td>0</td>\n",
              "      <td>0.020448</td>\n",
              "      <td>72.680000</td>\n",
              "      <td>2020-07-12 00:01:41.761234944</td>\n",
              "    </tr>\n",
              "    <tr>\n",
              "      <th>...</th>\n",
              "      <td>...</td>\n",
              "      <td>...</td>\n",
              "      <td>...</td>\n",
              "      <td>...</td>\n",
              "      <td>...</td>\n",
              "      <td>...</td>\n",
              "      <td>...</td>\n",
              "      <td>...</td>\n",
              "      <td>...</td>\n",
              "    </tr>\n",
              "    <tr>\n",
              "      <th>405179</th>\n",
              "      <td>0</td>\n",
              "      <td>0.003745</td>\n",
              "      <td>75.300003</td>\n",
              "      <td>0</td>\n",
              "      <td>0.006247</td>\n",
              "      <td>0</td>\n",
              "      <td>0.016437</td>\n",
              "      <td>66.560001</td>\n",
              "      <td>2020-07-20 00:03:33.162014976</td>\n",
              "    </tr>\n",
              "    <tr>\n",
              "      <th>405180</th>\n",
              "      <td>2</td>\n",
              "      <td>0.005882</td>\n",
              "      <td>48.500000</td>\n",
              "      <td>0</td>\n",
              "      <td>0.008660</td>\n",
              "      <td>0</td>\n",
              "      <td>0.023301</td>\n",
              "      <td>71.960000</td>\n",
              "      <td>2020-07-20 00:03:33.576560640</td>\n",
              "    </tr>\n",
              "    <tr>\n",
              "      <th>405181</th>\n",
              "      <td>1</td>\n",
              "      <td>0.004540</td>\n",
              "      <td>75.699997</td>\n",
              "      <td>1</td>\n",
              "      <td>0.007181</td>\n",
              "      <td>0</td>\n",
              "      <td>0.019076</td>\n",
              "      <td>79.880001</td>\n",
              "      <td>2020-07-20 00:03:36.167959296</td>\n",
              "    </tr>\n",
              "    <tr>\n",
              "      <th>405182</th>\n",
              "      <td>0</td>\n",
              "      <td>0.003745</td>\n",
              "      <td>75.300003</td>\n",
              "      <td>0</td>\n",
              "      <td>0.006247</td>\n",
              "      <td>0</td>\n",
              "      <td>0.016437</td>\n",
              "      <td>66.560001</td>\n",
              "      <td>2020-07-20 00:03:36.979521536</td>\n",
              "    </tr>\n",
              "    <tr>\n",
              "      <th>405183</th>\n",
              "      <td>2</td>\n",
              "      <td>0.005914</td>\n",
              "      <td>48.400000</td>\n",
              "      <td>0</td>\n",
              "      <td>0.008695</td>\n",
              "      <td>0</td>\n",
              "      <td>0.023400</td>\n",
              "      <td>71.960000</td>\n",
              "      <td>2020-07-20 00:03:37.264312576</td>\n",
              "    </tr>\n",
              "  </tbody>\n",
              "</table>\n",
              "<p>405184 rows × 9 columns</p>\n",
              "</div>\n",
              "      <button class=\"colab-df-convert\" onclick=\"convertToInteractive('df-fbdb522d-e69d-45d3-9ee1-96f1d6780f9b')\"\n",
              "              title=\"Convert this dataframe to an interactive table.\"\n",
              "              style=\"display:none;\">\n",
              "        \n",
              "  <svg xmlns=\"http://www.w3.org/2000/svg\" height=\"24px\"viewBox=\"0 0 24 24\"\n",
              "       width=\"24px\">\n",
              "    <path d=\"M0 0h24v24H0V0z\" fill=\"none\"/>\n",
              "    <path d=\"M18.56 5.44l.94 2.06.94-2.06 2.06-.94-2.06-.94-.94-2.06-.94 2.06-2.06.94zm-11 1L8.5 8.5l.94-2.06 2.06-.94-2.06-.94L8.5 2.5l-.94 2.06-2.06.94zm10 10l.94 2.06.94-2.06 2.06-.94-2.06-.94-.94-2.06-.94 2.06-2.06.94z\"/><path d=\"M17.41 7.96l-1.37-1.37c-.4-.4-.92-.59-1.43-.59-.52 0-1.04.2-1.43.59L10.3 9.45l-7.72 7.72c-.78.78-.78 2.05 0 2.83L4 21.41c.39.39.9.59 1.41.59.51 0 1.02-.2 1.41-.59l7.78-7.78 2.81-2.81c.8-.78.8-2.07 0-2.86zM5.41 20L4 18.59l7.72-7.72 1.47 1.35L5.41 20z\"/>\n",
              "  </svg>\n",
              "      </button>\n",
              "      \n",
              "  <style>\n",
              "    .colab-df-container {\n",
              "      display:flex;\n",
              "      flex-wrap:wrap;\n",
              "      gap: 12px;\n",
              "    }\n",
              "\n",
              "    .colab-df-convert {\n",
              "      background-color: #E8F0FE;\n",
              "      border: none;\n",
              "      border-radius: 50%;\n",
              "      cursor: pointer;\n",
              "      display: none;\n",
              "      fill: #1967D2;\n",
              "      height: 32px;\n",
              "      padding: 0 0 0 0;\n",
              "      width: 32px;\n",
              "    }\n",
              "\n",
              "    .colab-df-convert:hover {\n",
              "      background-color: #E2EBFA;\n",
              "      box-shadow: 0px 1px 2px rgba(60, 64, 67, 0.3), 0px 1px 3px 1px rgba(60, 64, 67, 0.15);\n",
              "      fill: #174EA6;\n",
              "    }\n",
              "\n",
              "    [theme=dark] .colab-df-convert {\n",
              "      background-color: #3B4455;\n",
              "      fill: #D2E3FC;\n",
              "    }\n",
              "\n",
              "    [theme=dark] .colab-df-convert:hover {\n",
              "      background-color: #434B5C;\n",
              "      box-shadow: 0px 1px 3px 1px rgba(0, 0, 0, 0.15);\n",
              "      filter: drop-shadow(0px 1px 2px rgba(0, 0, 0, 0.3));\n",
              "      fill: #FFFFFF;\n",
              "    }\n",
              "  </style>\n",
              "\n",
              "      <script>\n",
              "        const buttonEl =\n",
              "          document.querySelector('#df-fbdb522d-e69d-45d3-9ee1-96f1d6780f9b button.colab-df-convert');\n",
              "        buttonEl.style.display =\n",
              "          google.colab.kernel.accessAllowed ? 'block' : 'none';\n",
              "\n",
              "        async function convertToInteractive(key) {\n",
              "          const element = document.querySelector('#df-fbdb522d-e69d-45d3-9ee1-96f1d6780f9b');\n",
              "          const dataTable =\n",
              "            await google.colab.kernel.invokeFunction('convertToInteractive',\n",
              "                                                     [key], {});\n",
              "          if (!dataTable) return;\n",
              "\n",
              "          const docLinkHtml = 'Like what you see? Visit the ' +\n",
              "            '<a target=\"_blank\" href=https://colab.research.google.com/notebooks/data_table.ipynb>data table notebook</a>'\n",
              "            + ' to learn more about interactive tables.';\n",
              "          element.innerHTML = '';\n",
              "          dataTable['output_type'] = 'display_data';\n",
              "          await google.colab.output.renderOutput(dataTable, element);\n",
              "          const docLink = document.createElement('div');\n",
              "          docLink.innerHTML = docLinkHtml;\n",
              "          element.appendChild(docLink);\n",
              "        }\n",
              "      </script>\n",
              "    </div>\n",
              "  </div>\n",
              "  "
            ],
            "text/plain": [
              "        device        co  ...       temp                    time_stamp\n",
              "0            2  0.004956  ...  72.860000 2020-07-12 00:01:34.385974528\n",
              "1            0  0.002840  ...  67.460001 2020-07-12 00:01:34.735567616\n",
              "2            2  0.004976  ...  72.680000 2020-07-12 00:01:38.073572864\n",
              "3            1  0.004403  ...  80.600000 2020-07-12 00:01:39.589145856\n",
              "4            2  0.004967  ...  72.680000 2020-07-12 00:01:41.761234944\n",
              "...        ...       ...  ...        ...                           ...\n",
              "405179       0  0.003745  ...  66.560001 2020-07-20 00:03:33.162014976\n",
              "405180       2  0.005882  ...  71.960000 2020-07-20 00:03:33.576560640\n",
              "405181       1  0.004540  ...  79.880001 2020-07-20 00:03:36.167959296\n",
              "405182       0  0.003745  ...  66.560001 2020-07-20 00:03:36.979521536\n",
              "405183       2  0.005914  ...  71.960000 2020-07-20 00:03:37.264312576\n",
              "\n",
              "[405184 rows x 9 columns]"
            ]
          },
          "metadata": {},
          "execution_count": 11
        }
      ]
    },
    {
      "cell_type": "markdown",
      "source": [
        "Plotting the graphs "
      ],
      "metadata": {
        "id": "JUUxNP1pDSln"
      }
    },
    {
      "cell_type": "code",
      "source": [
        "df.hist(figsize=(16, 20), bins=50, xlabelsize=8, ylabelsize=8)"
      ],
      "metadata": {
        "colab": {
          "base_uri": "https://localhost:8080/",
          "height": 1000
        },
        "id": "GsZgCPcUDMr0",
        "outputId": "02a622fe-4fc5-4120-e80b-4a382f893207"
      },
      "execution_count": 12,
      "outputs": [
        {
          "output_type": "execute_result",
          "data": {
            "text/plain": [
              "array([[<matplotlib.axes._subplots.AxesSubplot object at 0x7fd84f199350>,\n",
              "        <matplotlib.axes._subplots.AxesSubplot object at 0x7fd84f1bf4d0>,\n",
              "        <matplotlib.axes._subplots.AxesSubplot object at 0x7fd84f181f50>],\n",
              "       [<matplotlib.axes._subplots.AxesSubplot object at 0x7fd84f143590>,\n",
              "        <matplotlib.axes._subplots.AxesSubplot object at 0x7fd84f0f9b90>,\n",
              "        <matplotlib.axes._subplots.AxesSubplot object at 0x7fd84f0bc1d0>],\n",
              "       [<matplotlib.axes._subplots.AxesSubplot object at 0x7fd84f07c910>,\n",
              "        <matplotlib.axes._subplots.AxesSubplot object at 0x7fd84f030ed0>,\n",
              "        <matplotlib.axes._subplots.AxesSubplot object at 0x7fd84f030f10>]],\n",
              "      dtype=object)"
            ]
          },
          "metadata": {},
          "execution_count": 12
        },
        {
          "output_type": "display_data",
          "data": {
            "image/png": "[encoded data removed]",
            "text/plain": [
              "<Figure size 1152x1440 with 9 Axes>"
            ]
          },
          "metadata": {
            "needs_background": "light"
          }
        }
      ]
    },
    {
      "cell_type": "markdown",
      "source": [
        "To find a correlation between carbon monoxide and smoke can be seen with a linear regression model. "
      ],
      "metadata": {
        "id": "6yToR7TR4OyI"
      }
    },
    {
      "cell_type": "code",
      "source": [
        "# Model to find the correlation between smoke and carbon monoxide \n",
        "X = df.drop(['time_stamp','device',\"humidity\",\"light\", \"lpg\", \"motion\", \"smoke\", \"temp\"], axis=1)\n",
        "x = df.drop(['time_stamp','device',\"humidity\",\"light\", \"lpg\", \"motion\", \"temp\", \"co\"], axis=1)\n",
        "\n",
        "from sklearn.model_selection import train_test_split\n",
        "from sklearn.linear_model import LinearRegression\n",
        "X_train, X_test, Y_train, Y_test = train_test_split(X, x, test_size=0.6, random_state=0)\n",
        "Linear = LinearRegression()\n",
        "Linear.fit(X_train, Y_train)\n",
        "print(Linear.score(X_train, Y_train))\n",
        "y_pred = Linear.predict(X_test)\n",
        "plt.plot(Y_test, y_pred)\n",
        "plt.show()"
      ],
      "metadata": {
        "colab": {
          "base_uri": "https://localhost:8080/",
          "height": 283
        },
        "id": "0OBCJ1hKwYA4",
        "outputId": "57344e95-4d1a-4c8b-ec6f-091c722a298e"
      },
      "execution_count": 19,
      "outputs": [
        {
          "output_type": "stream",
          "name": "stdout",
          "text": [
            "0.9964901267050843\n"
          ]
        },
        {
          "output_type": "display_data",
          "data": {
            "image/png": "[encoded data removed]",
            "text/plain": [
              "<Figure size 432x288 with 1 Axes>"
            ]
          },
          "metadata": {
            "needs_background": "light"
          }
        }
      ]
    },
    {
      "cell_type": "code",
      "source": [
        ""
      ],
      "metadata": {
        "id": "Wg7BmkX65BU0"
      },
      "execution_count": null,
      "outputs": []
    },
    {
      "cell_type": "markdown",
      "source": [
        "Find a correlation between carbon monoxide and liquid petroleum gas using a linear regression model "
      ],
      "metadata": {
        "id": "bPX86Znt5tQw"
      }
    },
    {
      "cell_type": "code",
      "source": [
        "# Model to find the correlation between carbon monoxide and liquid petroleum gas \n",
        "X = df.drop(['time_stamp','device',\"humidity\",\"light\", \"motion\", \"smoke\", \"temp\", \"co\"], axis=1)\n",
        "x = df.drop(['time_stamp','device',\"humidity\",\"light\", \"lpg\", \"motion\", \"temp\", \"smoke\"], axis=1)\n",
        "\n",
        "from sklearn.model_selection import train_test_split\n",
        "from sklearn.linear_model import LinearRegression\n",
        "X_train, X_test, Y_train, Y_test = train_test_split(X, x, test_size=0.6, random_state=0)\n",
        "Linear = LinearRegression()\n",
        "Linear.fit(X_train, Y_train)\n",
        "print(Linear.score(X_train, Y_train))\n",
        "y_pred = Linear.predict(X_test)\n",
        "plt.plot(Y_test, y_pred)\n",
        "plt.show()"
      ],
      "metadata": {
        "colab": {
          "base_uri": "https://localhost:8080/",
          "height": 283
        },
        "outputId": "4c0da5e7-1f1a-4a6d-fb00-aec9b85ff401",
        "id": "3B1V2l0K5B7p"
      },
      "execution_count": 20,
      "outputs": [
        {
          "output_type": "stream",
          "name": "stdout",
          "text": [
            "0.9948159934072724\n"
          ]
        },
        {
          "output_type": "display_data",
          "data": {
            "image/png": "[encoded data removed]",
            "text/plain": [
              "<Figure size 432x288 with 1 Axes>"
            ]
          },
          "metadata": {
            "needs_background": "light"
          }
        }
      ]
    },
    {
      "cell_type": "markdown",
      "source": [
        "The correlation between smoke and liquid petroleum gas is very strong. "
      ],
      "metadata": {
        "id": "X5IuRaDe6vM3"
      }
    },
    {
      "cell_type": "code",
      "source": [
        "# Model to find the correlation between smoke and liquid petroleum gas \n",
        "X = df.drop(['time_stamp','device',\"humidity\",\"light\", \"motion\", \"smoke\", \"temp\", \"co\"], axis=1)\n",
        "x = df.drop(['time_stamp','device',\"humidity\",\"light\", \"lpg\", \"motion\", \"temp\", \"co\"], axis=1)\n",
        "\n",
        "from sklearn.model_selection import train_test_split\n",
        "from sklearn.linear_model import LinearRegression\n",
        "X_train, X_test, Y_train, Y_test = train_test_split(X, x, test_size=0.6, random_state=0)\n",
        "Linear = LinearRegression()\n",
        "Linear.fit(X_train, Y_train)\n",
        "print(Linear.score(X_train, Y_train))\n",
        "y_pred = Linear.predict(X_test)\n",
        "plt.plot(Y_test, y_pred)\n",
        "plt.show()"
      ],
      "metadata": {
        "colab": {
          "base_uri": "https://localhost:8080/",
          "height": 283
        },
        "id": "EIZ00mID58L9",
        "outputId": "38a1a8a8-94fe-4285-8733-6bb27fa35c59"
      },
      "execution_count": 24,
      "outputs": [
        {
          "output_type": "stream",
          "name": "stdout",
          "text": [
            "0.9998359907646402\n"
          ]
        },
        {
          "output_type": "display_data",
          "data": {
            "image/png": "[encoded data removed]",
            "text/plain": [
              "<Figure size 432x288 with 1 Axes>"
            ]
          },
          "metadata": {
            "needs_background": "light"
          }
        }
      ]
    },
    {
      "cell_type": "markdown",
      "source": [
        "Liquid petroleum gas is a mixture of hydrocarbon gases that mostly constitute of propane, butane and propelyne. Based on the heatmap in the previous section above, one can match the color of the heat map and determine which features could be correlated with one another. As demonstrated in the linear regression models above, the heat map is fairly accurate to say that there is a correlation to smoke and carbon monoxide, carbon monoxide and liquid petroleum gas, and smoke and petroleum gas. \n",
        "\n",
        "Liquified petroleum gas is a pollutant that can cause cardiopulmonary diseases. Lpg is known to produce a biomass fuel smoke that contains risk factors for disease. Fuel smoke has been estimated to be responsible for oever 4.3 million deaths in 2012. Chronic bronchitis, COPD, lung cancer, childhood pneumonia, among many other cardio and pulmonory illnesses. \n",
        "\n",
        "Carbon monoxide is a leading factor of pulmonary. illnesses, and higher concentrations has been proven to cause lung diseases. There is a high correlation between carbon monoxide and liquified petroleum gas. Smoke and carbon monoxide as a given. However, a linear regression model can show this clearly. "
      ],
      "metadata": {
        "id": "zpT0o5xA7NmL"
      }
    }
  ]
}